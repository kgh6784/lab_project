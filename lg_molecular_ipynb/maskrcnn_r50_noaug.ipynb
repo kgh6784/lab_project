{
 "cells": [
  {
   "cell_type": "code",
   "execution_count": 4,
   "id": "ac758fa8",
   "metadata": {},
   "outputs": [],
   "source": [
    "import os\n",
    "os.environ['CUDA_DEVICE_ORDER'] = 'PCI_BUS_ID'\n",
    "os.environ['CUDA_VISIBLE_DEVICES'] = '2'"
   ]
  },
  {
   "cell_type": "code",
   "execution_count": 5,
   "id": "d4b246a5",
   "metadata": {},
   "outputs": [
    {
     "name": "stdout",
     "output_type": "stream",
     "text": [
      "/home/kgh6784/private/project/instance_segmentation\n"
     ]
    }
   ],
   "source": [
    "cd .."
   ]
  },
  {
   "cell_type": "code",
   "execution_count": 3,
   "id": "bdadb602",
   "metadata": {},
   "outputs": [
    {
     "name": "stdout",
     "output_type": "stream",
     "text": [
      "/home/kgh6784/private/project/instance_segmentation/mmdetection\n"
     ]
    }
   ],
   "source": [
    "cd mmdetection"
   ]
  },
  {
   "cell_type": "code",
   "execution_count": 3,
   "id": "3103ce40",
   "metadata": {},
   "outputs": [],
   "source": [
    "import mmcv\n",
    "import terminaltables\n",
    "import pycocotools\n",
    "from pycocotools.coco import COCO\n",
    "from mmdet.datasets.builder import DATASETS\n",
    "from mmdet.datasets import build_dataset\n",
    "from mmdet.datasets.coco import CocoDataset\n",
    "from mmdet.models import build_detector\n",
    "from mmdet.apis import train_detector\n",
    "from mmdet.apis import init_detector, inference_detector\n",
    "from mmdet.apis import show_result_pyplot\n",
    "from mmcv.runner import load_checkpoint\n",
    "from mmdet.apis import set_random_seed\n",
    "import mmcv"
   ]
  },
  {
   "cell_type": "code",
   "execution_count": 4,
   "id": "61885c57",
   "metadata": {},
   "outputs": [],
   "source": [
    "import torch\n",
    "import pylab\n",
    "import cv2\n",
    "import numpy as np\n",
    "import matplotlib.pyplot as plt\n",
    "%matplotlib inline"
   ]
  },
  {
   "cell_type": "code",
   "execution_count": 5,
   "id": "fe86cb89",
   "metadata": {},
   "outputs": [],
   "source": [
    "dataset_path = '/home/kgh6784/shared/hdd_ext/nvme1/jihun_instance/lg_molecular/dataset'"
   ]
  },
  {
   "cell_type": "code",
   "execution_count": 1,
   "id": "df6eba92",
   "metadata": {},
   "outputs": [
    {
     "name": "stdout",
     "output_type": "stream",
     "text": [
      "[1. 1. 1. 1. 1. 1. 1. 1. 1. 1.]\n",
      "10.0\n"
     ]
    }
   ],
   "source": [
    "import numpy as np\n",
    "from einops import rearrange\n",
    "A = np.eye(10)\n",
    "diag = np.einsum('ii->i', A)\n",
    "trace =np.einsum('ii->', A)\n",
    "print(diag)\n",
    "print(trace)"
   ]
  },
  {
   "cell_type": "code",
   "execution_count": 5,
   "id": "6806823e",
   "metadata": {},
   "outputs": [
    {
     "name": "stdout",
     "output_type": "stream",
     "text": [
      "<function _ntuple.<locals>.parse at 0x7f72bc1211f0> <function _ntuple.<locals>.parse at 0x7f72bc121280> <function _ntuple.<locals>.parse at 0x7f72bc121310> <function _ntuple.<locals>.parse at 0x7f72bc1213a0>\n"
     ]
    }
   ],
   "source": [
    "def _ntuple(n):\n",
    "    def parse(x):\n",
    "        if isinstance(x, container_abcs.Iterable):\n",
    "            return x\n",
    "        return tuple(repeat(x, n))\n",
    "\n",
    "    return parse\n",
    "\n",
    "\n",
    "to_1tuple = _ntuple(1)\n",
    "to_2tuple = _ntuple(2)\n",
    "to_3tuple = _ntuple(3)\n",
    "to_4tuple = _ntuple(4)\n",
    "print(to_1tuple, to_2tuple, to_3tuple, to_4tuple) "
   ]
  },
  {
   "cell_type": "code",
   "execution_count": 2,
   "id": "d5e95a87",
   "metadata": {},
   "outputs": [],
   "source": [
    "from itertools import repeat"
   ]
  },
  {
   "cell_type": "code",
   "execution_count": 4,
   "id": "9c6c8ab6",
   "metadata": {},
   "outputs": [
    {
     "data": {
      "text/plain": [
       "(3, 3, 3, 3, 3)"
      ]
     },
     "execution_count": 4,
     "metadata": {},
     "output_type": "execute_result"
    }
   ],
   "source": [
    "tuple(repeat(3, 5))"
   ]
  },
  {
   "cell_type": "code",
   "execution_count": null,
   "id": "52828bd5",
   "metadata": {},
   "outputs": [],
   "source": [
    "tuple(repeat(((2,),3)))"
   ]
  },
  {
   "cell_type": "code",
   "execution_count": 6,
   "id": "85f89190",
   "metadata": {},
   "outputs": [
    {
     "ename": "NameError",
     "evalue": "name 'repeat' is not defined",
     "output_type": "error",
     "traceback": [
      "\u001b[0;31m---------------------------------------------------------------------------\u001b[0m",
      "\u001b[0;31mNameError\u001b[0m                                 Traceback (most recent call last)",
      "\u001b[0;32m/tmp/ipykernel_59802/2252647377.py\u001b[0m in \u001b[0;36m<module>\u001b[0;34m\u001b[0m\n\u001b[0;32m----> 1\u001b[0;31m \u001b[0mtuple\u001b[0m\u001b[0;34m(\u001b[0m\u001b[0mrepeat\u001b[0m\u001b[0;34m(\u001b[0m\u001b[0;36m3\u001b[0m\u001b[0;34m,\u001b[0m\u001b[0;36m2\u001b[0m\u001b[0;34m)\u001b[0m\u001b[0;34m)\u001b[0m\u001b[0;34m\u001b[0m\u001b[0;34m\u001b[0m\u001b[0m\n\u001b[0m",
      "\u001b[0;31mNameError\u001b[0m: name 'repeat' is not defined"
     ]
    }
   ],
   "source": [
    "tuple(repeat(3,2))"
   ]
  },
  {
   "cell_type": "code",
   "execution_count": 6,
   "id": "b423dfd7",
   "metadata": {},
   "outputs": [],
   "source": [
    "# 사용할 모데 초기 py 설정\n",
    "config = './configs/mask_rcnn/mask_rcnn_r50_fpn_1x_coco.py'\n",
    "\n",
    "# config 불러오기\n",
    "cfg = mmcv.Config.fromfile(config)\n",
    "\n",
    "# 데이터셋 지정\n",
    "cfg.dataset_type = 'CocoDataset'\n",
    "\n",
    "# data_root는 사용자가 저장한 데이터가 있는 폴더 전까지\n",
    "data_root = '/home/kgh6784/shared/hdd_ext/nvme1/jihun_instance/lg_molecular/dataset/'\n",
    "\n",
    "# class 설정\n",
    "cfg.classes = ('Normal',)\n",
    "\n",
    "# train, val, test 데이터셋에 대한 type, data_root, ann_file, img_prefix 설정\n",
    "\n",
    "cfg.data.samples_per_gpu=2\n",
    "cfg.data.workers_per_gpu=1\n",
    "\n",
    "cfg.data.train.data_root = data_root \n",
    "cfg.data.train.ann_file = 'modify.json' \n",
    "#cfg.data.train.ann_file = 'label(polygon)_train.json' \n",
    "cfg.data.train.img_prefix = 'train/'\n",
    "cfg.data.train.classes = cfg.classes\n",
    "\n",
    "cfg.data.val.data_root = data_root\n",
    "#cfg.data.val.ann_file = 'label(polygon)_train.json'\n",
    "cfg.data.train.ann_file = 'modify.json' \n",
    "cfg.data.val.img_prefix = 'train/'\n",
    "cfg.data.val.classes = cfg.classes\n",
    "\n",
    "cfg.data.test.data_root = data_root\n",
    "cfg.data.test.ann_file = 'test.json'\n",
    "cfg.data.test.img_prefix = 'test/'\n",
    "cfg.data.test.classes = cfg.classes\n",
    "\n",
    "# 클래스 수 지정\n",
    "cfg.model.roi_head.bbox_head.num_classes = 1\n",
    "cfg.model.roi_head.mask_head.num_classes = 1\n",
    "\n",
    "# 사전 훈련 모델 지정\n",
    "#cfg.load_from = './checkpoint/mask_rcnn_r50_fpn_1x_coco_20200205-d4b0c5d6.pth'\n",
    "cfg.resume_from = './work_dirs/lg_cfg2/epoch_10.pth'\n",
    "# 가중치 저장 위치\n",
    "cfg.work_dir = './work_dirs/lg_cfg2/'\n",
    "\n",
    "# learning rate\n",
    "cfg.optimizer.lr = 0.02 / 8\n",
    "\n",
    "# 로그 출력 시기 설정\n",
    "cfg.log_config.interval = 1 \n",
    "cfg.lr_config.policy = 'step'\n",
    "\n",
    "# 평가 지표로 설정\n",
    "cfg.evaluation.metric = ['bbox', 'segm']\n",
    "\n",
    "# 평가 구간 설정\n",
    "\n",
    "cfg.evaluation.interval = 10\n",
    "\n",
    "# 체크포인트 구간 설정\n",
    "cfg.checkpoint_config.interval = 10\n",
    "\n",
    "# epoch 설정\n",
    "cfg.runner = dict(type='EpochBasedRunner', max_epochs=20)\n",
    "cfg.runner.max_epochs = 20\n",
    "# 결과 재현을 위한 시드값 설정\n",
    "cfg.seed = 0\n",
    "set_random_seed(0, deterministic=False)\n",
    "cfg.gpu_ids = range(1)\n",
    "cfg.device='cuda'\n",
    "\n"
   ]
  },
  {
   "cell_type": "code",
   "execution_count": 7,
   "id": "27c76d6b",
   "metadata": {
    "scrolled": false
   },
   "outputs": [
    {
     "name": "stdout",
     "output_type": "stream",
     "text": [
      "Config:\n",
      "model = dict(\n",
      "    type='MaskRCNN',\n",
      "    backbone=dict(\n",
      "        type='ResNet',\n",
      "        depth=50,\n",
      "        num_stages=4,\n",
      "        out_indices=(0, 1, 2, 3),\n",
      "        frozen_stages=1,\n",
      "        norm_cfg=dict(type='BN', requires_grad=True),\n",
      "        norm_eval=True,\n",
      "        style='pytorch',\n",
      "        init_cfg=dict(type='Pretrained', checkpoint='torchvision://resnet50')),\n",
      "    neck=dict(\n",
      "        type='FPN',\n",
      "        in_channels=[256, 512, 1024, 2048],\n",
      "        out_channels=256,\n",
      "        num_outs=5),\n",
      "    rpn_head=dict(\n",
      "        type='RPNHead',\n",
      "        in_channels=256,\n",
      "        feat_channels=256,\n",
      "        anchor_generator=dict(\n",
      "            type='AnchorGenerator',\n",
      "            scales=[8],\n",
      "            ratios=[0.5, 1.0, 2.0],\n",
      "            strides=[4, 8, 16, 32, 64]),\n",
      "        bbox_coder=dict(\n",
      "            type='DeltaXYWHBBoxCoder',\n",
      "            target_means=[0.0, 0.0, 0.0, 0.0],\n",
      "            target_stds=[1.0, 1.0, 1.0, 1.0]),\n",
      "        loss_cls=dict(\n",
      "            type='CrossEntropyLoss', use_sigmoid=True, loss_weight=1.0),\n",
      "        loss_bbox=dict(type='L1Loss', loss_weight=1.0)),\n",
      "    roi_head=dict(\n",
      "        type='StandardRoIHead',\n",
      "        bbox_roi_extractor=dict(\n",
      "            type='SingleRoIExtractor',\n",
      "            roi_layer=dict(type='RoIAlign', output_size=7, sampling_ratio=0),\n",
      "            out_channels=256,\n",
      "            featmap_strides=[4, 8, 16, 32]),\n",
      "        bbox_head=dict(\n",
      "            type='Shared2FCBBoxHead',\n",
      "            in_channels=256,\n",
      "            fc_out_channels=1024,\n",
      "            roi_feat_size=7,\n",
      "            num_classes=1,\n",
      "            bbox_coder=dict(\n",
      "                type='DeltaXYWHBBoxCoder',\n",
      "                target_means=[0.0, 0.0, 0.0, 0.0],\n",
      "                target_stds=[0.1, 0.1, 0.2, 0.2]),\n",
      "            reg_class_agnostic=False,\n",
      "            loss_cls=dict(\n",
      "                type='CrossEntropyLoss', use_sigmoid=False, loss_weight=1.0),\n",
      "            loss_bbox=dict(type='L1Loss', loss_weight=1.0)),\n",
      "        mask_roi_extractor=dict(\n",
      "            type='SingleRoIExtractor',\n",
      "            roi_layer=dict(type='RoIAlign', output_size=14, sampling_ratio=0),\n",
      "            out_channels=256,\n",
      "            featmap_strides=[4, 8, 16, 32]),\n",
      "        mask_head=dict(\n",
      "            type='FCNMaskHead',\n",
      "            num_convs=4,\n",
      "            in_channels=256,\n",
      "            conv_out_channels=256,\n",
      "            num_classes=1,\n",
      "            loss_mask=dict(\n",
      "                type='CrossEntropyLoss', use_mask=True, loss_weight=1.0))),\n",
      "    train_cfg=dict(\n",
      "        rpn=dict(\n",
      "            assigner=dict(\n",
      "                type='MaxIoUAssigner',\n",
      "                pos_iou_thr=0.7,\n",
      "                neg_iou_thr=0.3,\n",
      "                min_pos_iou=0.3,\n",
      "                match_low_quality=True,\n",
      "                ignore_iof_thr=-1),\n",
      "            sampler=dict(\n",
      "                type='RandomSampler',\n",
      "                num=256,\n",
      "                pos_fraction=0.5,\n",
      "                neg_pos_ub=-1,\n",
      "                add_gt_as_proposals=False),\n",
      "            allowed_border=-1,\n",
      "            pos_weight=-1,\n",
      "            debug=False),\n",
      "        rpn_proposal=dict(\n",
      "            nms_pre=2000,\n",
      "            max_per_img=1000,\n",
      "            nms=dict(type='nms', iou_threshold=0.7),\n",
      "            min_bbox_size=0),\n",
      "        rcnn=dict(\n",
      "            assigner=dict(\n",
      "                type='MaxIoUAssigner',\n",
      "                pos_iou_thr=0.5,\n",
      "                neg_iou_thr=0.5,\n",
      "                min_pos_iou=0.5,\n",
      "                match_low_quality=True,\n",
      "                ignore_iof_thr=-1),\n",
      "            sampler=dict(\n",
      "                type='RandomSampler',\n",
      "                num=512,\n",
      "                pos_fraction=0.25,\n",
      "                neg_pos_ub=-1,\n",
      "                add_gt_as_proposals=True),\n",
      "            mask_size=28,\n",
      "            pos_weight=-1,\n",
      "            debug=False)),\n",
      "    test_cfg=dict(\n",
      "        rpn=dict(\n",
      "            nms_pre=1000,\n",
      "            max_per_img=1000,\n",
      "            nms=dict(type='nms', iou_threshold=0.7),\n",
      "            min_bbox_size=0),\n",
      "        rcnn=dict(\n",
      "            score_thr=0.05,\n",
      "            nms=dict(type='nms', iou_threshold=0.5),\n",
      "            max_per_img=100,\n",
      "            mask_thr_binary=0.5)))\n",
      "dataset_type = 'CocoDataset'\n",
      "data_root = 'data/coco/'\n",
      "img_norm_cfg = dict(\n",
      "    mean=[123.675, 116.28, 103.53], std=[58.395, 57.12, 57.375], to_rgb=True)\n",
      "train_pipeline = [\n",
      "    dict(type='LoadImageFromFile'),\n",
      "    dict(type='LoadAnnotations', with_bbox=True, with_mask=True),\n",
      "    dict(type='Resize', img_scale=(1333, 800), keep_ratio=True),\n",
      "    dict(type='RandomFlip', flip_ratio=0.5),\n",
      "    dict(\n",
      "        type='Normalize',\n",
      "        mean=[123.675, 116.28, 103.53],\n",
      "        std=[58.395, 57.12, 57.375],\n",
      "        to_rgb=True),\n",
      "    dict(type='Pad', size_divisor=32),\n",
      "    dict(type='DefaultFormatBundle'),\n",
      "    dict(type='Collect', keys=['img', 'gt_bboxes', 'gt_labels', 'gt_masks'])\n",
      "]\n",
      "test_pipeline = [\n",
      "    dict(type='LoadImageFromFile'),\n",
      "    dict(\n",
      "        type='MultiScaleFlipAug',\n",
      "        img_scale=(1333, 800),\n",
      "        flip=False,\n",
      "        transforms=[\n",
      "            dict(type='Resize', keep_ratio=True),\n",
      "            dict(type='RandomFlip'),\n",
      "            dict(\n",
      "                type='Normalize',\n",
      "                mean=[123.675, 116.28, 103.53],\n",
      "                std=[58.395, 57.12, 57.375],\n",
      "                to_rgb=True),\n",
      "            dict(type='Pad', size_divisor=32),\n",
      "            dict(type='ImageToTensor', keys=['img']),\n",
      "            dict(type='Collect', keys=['img'])\n",
      "        ])\n",
      "]\n",
      "data = dict(\n",
      "    samples_per_gpu=2,\n",
      "    workers_per_gpu=2,\n",
      "    train=dict(\n",
      "        type='CocoDataset',\n",
      "        ann_file='modify.json',\n",
      "        img_prefix='train/',\n",
      "        pipeline=[\n",
      "            dict(type='LoadImageFromFile'),\n",
      "            dict(type='LoadAnnotations', with_bbox=True, with_mask=True),\n",
      "            dict(type='Resize', img_scale=(1333, 800), keep_ratio=True),\n",
      "            dict(type='RandomFlip', flip_ratio=0.5),\n",
      "            dict(\n",
      "                type='Normalize',\n",
      "                mean=[123.675, 116.28, 103.53],\n",
      "                std=[58.395, 57.12, 57.375],\n",
      "                to_rgb=True),\n",
      "            dict(type='Pad', size_divisor=32),\n",
      "            dict(type='DefaultFormatBundle'),\n",
      "            dict(\n",
      "                type='Collect',\n",
      "                keys=['img', 'gt_bboxes', 'gt_labels', 'gt_masks'])\n",
      "        ],\n",
      "        data_root=\n",
      "        '/home/kgh6784/shared/hdd_ext/nvme1/jihun_instance/lg_molecular/dataset/',\n",
      "        classes=('Normal', )),\n",
      "    val=dict(\n",
      "        type='CocoDataset',\n",
      "        ann_file='data/coco/annotations/instances_val2017.json',\n",
      "        img_prefix='train/',\n",
      "        pipeline=[\n",
      "            dict(type='LoadImageFromFile'),\n",
      "            dict(\n",
      "                type='MultiScaleFlipAug',\n",
      "                img_scale=(1333, 800),\n",
      "                flip=False,\n",
      "                transforms=[\n",
      "                    dict(type='Resize', keep_ratio=True),\n",
      "                    dict(type='RandomFlip'),\n",
      "                    dict(\n",
      "                        type='Normalize',\n",
      "                        mean=[123.675, 116.28, 103.53],\n",
      "                        std=[58.395, 57.12, 57.375],\n",
      "                        to_rgb=True),\n",
      "                    dict(type='Pad', size_divisor=32),\n",
      "                    dict(type='ImageToTensor', keys=['img']),\n",
      "                    dict(type='Collect', keys=['img'])\n",
      "                ])\n",
      "        ],\n",
      "        data_root=\n",
      "        '/home/kgh6784/shared/hdd_ext/nvme1/jihun_instance/lg_molecular/dataset/',\n",
      "        classes=('Normal', )),\n",
      "    test=dict(\n",
      "        type='CocoDataset',\n",
      "        ann_file='test.json',\n",
      "        img_prefix='test/',\n",
      "        pipeline=[\n",
      "            dict(type='LoadImageFromFile'),\n",
      "            dict(\n",
      "                type='MultiScaleFlipAug',\n",
      "                img_scale=(1333, 800),\n",
      "                flip=False,\n",
      "                transforms=[\n",
      "                    dict(type='Resize', keep_ratio=True),\n",
      "                    dict(type='RandomFlip'),\n",
      "                    dict(\n",
      "                        type='Normalize',\n",
      "                        mean=[123.675, 116.28, 103.53],\n",
      "                        std=[58.395, 57.12, 57.375],\n",
      "                        to_rgb=True),\n",
      "                    dict(type='Pad', size_divisor=32),\n",
      "                    dict(type='ImageToTensor', keys=['img']),\n",
      "                    dict(type='Collect', keys=['img'])\n",
      "                ])\n",
      "        ],\n",
      "        data_root=\n",
      "        '/home/kgh6784/shared/hdd_ext/nvme1/jihun_instance/lg_molecular/dataset/',\n",
      "        classes=('Normal', )))\n",
      "evaluation = dict(metric=['bbox', 'segm'], interval=10)\n",
      "optimizer = dict(type='SGD', lr=0.0025, momentum=0.9, weight_decay=0.0001)\n",
      "optimizer_config = dict(grad_clip=None)\n",
      "lr_config = dict(\n",
      "    policy='step',\n",
      "    warmup='linear',\n",
      "    warmup_iters=500,\n",
      "    warmup_ratio=0.001,\n",
      "    step=[8, 11])\n",
      "runner = dict(type='EpochBasedRunner', max_epochs=20)\n",
      "checkpoint_config = dict(interval=10)\n",
      "log_config = dict(interval=1, hooks=[dict(type='TextLoggerHook')])\n",
      "custom_hooks = [dict(type='NumClassCheckHook')]\n",
      "dist_params = dict(backend='nccl')\n",
      "log_level = 'INFO'\n",
      "load_from = None\n",
      "resume_from = './work_dirs/lg_cfg2/epoch_10.pth'\n",
      "workflow = [('train', 1)]\n",
      "opencv_num_threads = 0\n",
      "mp_start_method = 'fork'\n",
      "auto_scale_lr = dict(enable=False, base_batch_size=16)\n",
      "classes = ('Normal', )\n",
      "work_dir = './work_dirs/lg_cfg2/'\n",
      "seed = 0\n",
      "gpu_ids = range(0, 1)\n",
      "device = 'cuda'\n",
      "\n"
     ]
    }
   ],
   "source": [
    "print(f'Config:\\n{cfg.pretty_text}')"
   ]
  },
  {
   "cell_type": "code",
   "execution_count": null,
   "id": "fdfdea4e",
   "metadata": {},
   "outputs": [],
   "source": [
    "cfg.model"
   ]
  },
  {
   "cell_type": "code",
   "execution_count": null,
   "id": "47ac1061",
   "metadata": {},
   "outputs": [],
   "source": [
    "cfg.evaluation."
   ]
  },
  {
   "cell_type": "code",
   "execution_count": null,
   "id": "e183bdd6",
   "metadata": {
    "scrolled": true
   },
   "outputs": [],
   "source": [
    "datasets = [build_dataset(cfg.data.train)]\n",
    "model = build_detector(cfg.model)\n",
    "model.CLASSES = datasets[0].CLASSES\n",
    "\n",
    "# 훈련\n",
    "train_detector(model, datasets, cfg, distributed=False, validate=True)"
   ]
  },
  {
   "cell_type": "code",
   "execution_count": null,
   "id": "0f40a90f",
   "metadata": {
    "scrolled": false
   },
   "outputs": [],
   "source": [
    "img = mmcv.imread('/home/kgh6784/shared/hdd_ext/nvme1/jihun_instance/lg_molecular/dataset/test/0087.jpg')\n",
    "\n",
    "model.cfg = cfg\n",
    "result = inference_detector(model, img)\n",
    "show_result_pyplot(model, img, result)"
   ]
  },
  {
   "cell_type": "code",
   "execution_count": null,
   "id": "0a7d3b21",
   "metadata": {},
   "outputs": [],
   "source": [
    "cd mmdetection"
   ]
  },
  {
   "cell_type": "code",
   "execution_count": null,
   "id": "d5e2395f",
   "metadata": {},
   "outputs": [],
   "source": [
    "# 해당하는 폴더에 예측 json 저장 하는 코드입니다.\n",
    "\n",
    "!python /home/kgh6784/private/project/instance_segmentation/mmdetection/test.py /home/kgh6784/private/project/instance_segmentation/mmdetection/configs/custom/lg_mask.py /home/kgh6784/private/project/instance_segmentation/mmdetection/work_dirs/lg_cfg2/latest.pth --format-only --eval-options \"jsonfile_prefix=/home/kgh6784/private/project/instance_segmentation/mmdetection/work_dirs/lg_cfg2/\""
   ]
  },
  {
   "cell_type": "code",
   "execution_count": null,
   "id": "e2fb88ba",
   "metadata": {},
   "outputs": [],
   "source": [
    "ls"
   ]
  },
  {
   "cell_type": "code",
   "execution_count": null,
   "id": "b65882e9",
   "metadata": {},
   "outputs": [],
   "source": [
    "os.getcwd()"
   ]
  },
  {
   "cell_type": "code",
   "execution_count": null,
   "id": "8dbf0786",
   "metadata": {},
   "outputs": [],
   "source": [
    "os.listdir('/home/kgh6784/private/project/instance_segmentation/mmdetection/work_dirs/lg_cfg2/')"
   ]
  },
  {
   "cell_type": "code",
   "execution_count": null,
   "id": "2eaef02b",
   "metadata": {},
   "outputs": [],
   "source": [
    "import json"
   ]
  },
  {
   "cell_type": "code",
   "execution_count": null,
   "id": "0328d5b5",
   "metadata": {},
   "outputs": [],
   "source": [
    "with open(\"/home/kgh6784/private/project/instance_segmentation/mmdetection/work_dirs/lg_cfg2/.segm.json\") as f:\n",
    "    out_data2 = json.load(f)"
   ]
  },
  {
   "cell_type": "code",
   "execution_count": null,
   "id": "2c7f26c3",
   "metadata": {},
   "outputs": [],
   "source": [
    "out_data2[0]"
   ]
  },
  {
   "cell_type": "code",
   "execution_count": null,
   "id": "1b0001f1",
   "metadata": {},
   "outputs": [],
   "source": [
    "result"
   ]
  },
  {
   "cell_type": "code",
   "execution_count": null,
   "id": "50efc587",
   "metadata": {},
   "outputs": [],
   "source": [
    "annFile = '/home/kgh6784/shared/hdd_ext/nvme1/jihun_instance/lg_molecular/dataset/label(polygon)_train.json'"
   ]
  },
  {
   "cell_type": "code",
   "execution_count": null,
   "id": "9fb67ba5",
   "metadata": {},
   "outputs": [],
   "source": [
    "coco = COCO(annFile)"
   ]
  },
  {
   "cell_type": "code",
   "execution_count": null,
   "id": "3f56b871",
   "metadata": {},
   "outputs": [],
   "source": [
    "cells = coco.loadCats(coco.getCatIds())\n",
    "cells"
   ]
  },
  {
   "cell_type": "code",
   "execution_count": null,
   "id": "e84c2cc7",
   "metadata": {},
   "outputs": [],
   "source": [
    "catids = coco.getCatIds(catNms=['Normal'])\n",
    "print(catids)"
   ]
  },
  {
   "cell_type": "code",
   "execution_count": null,
   "id": "8c60da10",
   "metadata": {},
   "outputs": [],
   "source": [
    "imgids = coco.getImgIds(catIds=catids)\n",
    "print(imgids)"
   ]
  },
  {
   "cell_type": "code",
   "execution_count": null,
   "id": "76beda2b",
   "metadata": {},
   "outputs": [],
   "source": [
    "img = coco.loadImgs(188)[0]\n",
    "print(img)"
   ]
  },
  {
   "cell_type": "code",
   "execution_count": null,
   "id": "e8c03de8",
   "metadata": {},
   "outputs": [],
   "source": [
    "img['id']"
   ]
  },
  {
   "cell_type": "code",
   "execution_count": null,
   "id": "f80828bb",
   "metadata": {},
   "outputs": [],
   "source": [
    "annids = coco.getAnnIds(imgIds=img['id'], catIds=catids, iscrowd=None)"
   ]
  },
  {
   "cell_type": "code",
   "execution_count": null,
   "id": "4dbfdc5d",
   "metadata": {},
   "outputs": [],
   "source": [
    "anns = coco.loadAnns(annids)"
   ]
  },
  {
   "cell_type": "code",
   "execution_count": null,
   "id": "49881d84",
   "metadata": {},
   "outputs": [],
   "source": [
    "anns"
   ]
  },
  {
   "cell_type": "code",
   "execution_count": null,
   "id": "983d3f19",
   "metadata": {},
   "outputs": [],
   "source": [
    "ls"
   ]
  },
  {
   "cell_type": "code",
   "execution_count": null,
   "id": "1ca75312",
   "metadata": {},
   "outputs": [],
   "source": [
    "file_path = '/home/kgh6784/shared/hdd_ext/nvme1/jihun_instance/lg_molecular/dataset/train/'+img['file_name']\n",
    "image_array = cv2.imread(file_path)\n",
    "image_array = cv2.cvtColor(image_array, cv2.COLOR_BGR2RGB)\n",
    "plt.imshow(image_array)\n",
    "#plt.imshow(image_array)"
   ]
  },
  {
   "cell_type": "code",
   "execution_count": null,
   "id": "3a26ea16",
   "metadata": {
    "scrolled": true
   },
   "outputs": [],
   "source": [
    "plt.figure(figsize=(12,14))\n",
    "plt.imshow(image_array)\n",
    "plt.axis('off')\n",
    "\n",
    "coco.showAnns(anns)"
   ]
  },
  {
   "cell_type": "code",
   "execution_count": null,
   "id": "2c869d35",
   "metadata": {},
   "outputs": [],
   "source": [
    "anns[2]['image_id']"
   ]
  },
  {
   "cell_type": "code",
   "execution_count": null,
   "id": "3f417f11",
   "metadata": {},
   "outputs": [],
   "source": [
    "anns[2]['segmentation'] #|[0]"
   ]
  },
  {
   "cell_type": "code",
   "execution_count": null,
   "id": "a8494aeb",
   "metadata": {},
   "outputs": [],
   "source": [
    "len(anns)"
   ]
  },
  {
   "cell_type": "code",
   "execution_count": null,
   "id": "19aec12d",
   "metadata": {},
   "outputs": [],
   "source": [
    "green_color = (0, 255, 0)\n",
    "\n",
    "draw_img = image_array.copy()\n",
    "polygon_all = []\n",
    "for i in range(len(anns)):\n",
    "    polygon_xy = np.array(anns[i]['segmentation'], np.int32)\n",
    "    polygon_all.append(polygon_xy)\n",
    "raw_img = cv2.polylines(draw_img, polygon_all, True, (0, 255, 0))\n",
    "\n",
    "plt.figure(figsize=(12,14))\n",
    "plt.imshow(draw_img)\n",
    "plt.axis('off')"
   ]
  },
  {
   "cell_type": "code",
   "execution_count": null,
   "id": "6dbc9ddf",
   "metadata": {},
   "outputs": [],
   "source": [
    "polygon_all.shape"
   ]
  },
  {
   "cell_type": "code",
   "execution_count": null,
   "id": "0946ddff",
   "metadata": {},
   "outputs": [],
   "source": [
    "check_img = image_array.copy()"
   ]
  },
  {
   "cell_type": "code",
   "execution_count": null,
   "id": "2643d258",
   "metadata": {},
   "outputs": [],
   "source": [
    "rot180.shape"
   ]
  },
  {
   "cell_type": "code",
   "execution_count": null,
   "id": "9883c3df",
   "metadata": {},
   "outputs": [],
   "source": [
    "draw_img.shape"
   ]
  },
  {
   "cell_type": "code",
   "execution_count": null,
   "id": "f16fcf3d",
   "metadata": {},
   "outputs": [],
   "source": [
    "flip_img = np.flip(check_img, 1)"
   ]
  },
  {
   "cell_type": "code",
   "execution_count": null,
   "id": "9b49f58a",
   "metadata": {},
   "outputs": [],
   "source": [
    "flip_img.shape"
   ]
  },
  {
   "cell_type": "code",
   "execution_count": null,
   "id": "cd67d89a",
   "metadata": {},
   "outputs": [],
   "source": [
    "plt.imshow(flip_img)"
   ]
  },
  {
   "cell_type": "code",
   "execution_count": null,
   "id": "93f95b9a",
   "metadata": {},
   "outputs": [],
   "source": [
    "#rot180 = np.rot90(np.rot90(check_img))\n",
    "#plt.imshow(rot180)\n",
    "raw_img = cv2.polylines(flip_img, polygon_all, True, (0, 255, 0))\n",
    "\n",
    "plt.figure(figsize=(12,14))\n",
    "plt.imshow(draw_img)\n",
    "plt.axis('off')"
   ]
  },
  {
   "cell_type": "code",
   "execution_count": null,
   "id": "8fde3eb4",
   "metadata": {},
   "outputs": [],
   "source": [
    "green_color = (0, 255, 0)\n",
    "\n",
    "draw_img = image_array.copy()\n",
    "raw_img = cv2.polylines(draw_img, polygon_all, True, (0, 255, 0))\n",
    "\n",
    "plt.figure(figsize=(12,14))\n",
    "plt.imshow(draw_img)\n",
    "plt.axis('off')"
   ]
  },
  {
   "cell_type": "code",
   "execution_count": null,
   "id": "82c78f1d",
   "metadata": {},
   "outputs": [],
   "source": [
    "import json"
   ]
  },
  {
   "cell_type": "code",
   "execution_count": null,
   "id": "be39a59a",
   "metadata": {},
   "outputs": [],
   "source": [
    "json_files = '/home/kgh6784/shared/hdd_ext/nvme1/jihun_instance/lg_molecular/dataset/label(polygon)_modify.json'"
   ]
  },
  {
   "cell_type": "code",
   "execution_count": null,
   "id": "e19e8c91",
   "metadata": {},
   "outputs": [],
   "source": [
    "with open(json_files) as json_file:\n",
    "    json_data = json.load(json_file)"
   ]
  },
  {
   "cell_type": "code",
   "execution_count": null,
   "id": "4f8e2d40",
   "metadata": {},
   "outputs": [],
   "source": [
    "for i in range(len(json_data['annotations'])):\n",
    "    json_list = []\n",
    "    for v in json_data['annotations'][i]['segmentation']:\n",
    "        if v not in json_list:\n",
    "            json_list.append(v)\n",
    "    json_data['annotations'][i]['segmentation'] = json_list"
   ]
  },
  {
   "cell_type": "code",
   "execution_count": null,
   "id": "3ff30ad0",
   "metadata": {},
   "outputs": [],
   "source": [
    "for i in range(len(json_data['annotations'])):\n",
    "    json_list = [[]]\n",
    "    segment_list = json_data['annotations'][i]['segmentation']\n",
    "    for v in range(len(segment_list)):\n",
    "        json_list[0].append(segment_list[v][0])\n",
    "        json_list[0].append(segment_list[v][1])\n",
    "    json_data['annotations'][i]['segmentation'] = json_list"
   ]
  },
  {
   "cell_type": "code",
   "execution_count": null,
   "id": "26bfbb54",
   "metadata": {},
   "outputs": [],
   "source": [
    "ttt = []\n",
    "for i in range(len(json_data['annotations'])):\n",
    "    img_id = json_data['annotations'][i]['image_id']\n",
    "    if img_id not in ttt:\n",
    "        ttt.append(img_id)"
   ]
  },
  {
   "cell_type": "code",
   "execution_count": null,
   "id": "3a8b2720",
   "metadata": {},
   "outputs": [],
   "source": [
    "xx = []\n",
    "for i in range(len(json_data['annotations'])):\n",
    "    ids = json_data['annotations'][i]['id']\n",
    "    xx.append(ids)"
   ]
  },
  {
   "cell_type": "code",
   "execution_count": null,
   "id": "db07cd3c",
   "metadata": {},
   "outputs": [],
   "source": [
    "len(xx)"
   ]
  },
  {
   "cell_type": "code",
   "execution_count": null,
   "id": "beb59832",
   "metadata": {},
   "outputs": [],
   "source": [
    "xx"
   ]
  },
  {
   "cell_type": "code",
   "execution_count": null,
   "id": "09ae0896",
   "metadata": {},
   "outputs": [],
   "source": [
    "json_data['annotations']#[1]['id']"
   ]
  },
  {
   "cell_type": "code",
   "execution_count": null,
   "id": "ffe59811",
   "metadata": {},
   "outputs": [],
   "source": [
    "json_data"
   ]
  },
  {
   "cell_type": "code",
   "execution_count": null,
   "id": "594dff84",
   "metadata": {},
   "outputs": [],
   "source": [
    "a = [1,2,3,4]\n",
    "a[:-1]"
   ]
  },
  {
   "cell_type": "code",
   "execution_count": null,
   "id": "f35651cd",
   "metadata": {},
   "outputs": [],
   "source": [
    "json_data['annotations'][0]['segmentation'] =json_data['annotations'][0]['segmentation'][:-1]"
   ]
  },
  {
   "cell_type": "code",
   "execution_count": null,
   "id": "13c190d7",
   "metadata": {},
   "outputs": [],
   "source": [
    "json_data['annotations']"
   ]
  },
  {
   "cell_type": "code",
   "execution_count": null,
   "id": "049a643f",
   "metadata": {},
   "outputs": [],
   "source": [
    "test = json_data['annotations'][0]['segmentation']"
   ]
  },
  {
   "cell_type": "code",
   "execution_count": null,
   "id": "ff5b06ad",
   "metadata": {},
   "outputs": [],
   "source": [
    "test[0:3]"
   ]
  },
  {
   "cell_type": "code",
   "execution_count": null,
   "id": "9b61fe18",
   "metadata": {},
   "outputs": [],
   "source": [
    "x = [[]]\n",
    "x[0]"
   ]
  },
  {
   "cell_type": "code",
   "execution_count": null,
   "id": "b5197f87",
   "metadata": {},
   "outputs": [],
   "source": [
    "x = [[]]\n",
    "for i in range(len(test)):\n",
    "    x[0].append(test[i][0])\n",
    "    x[0].append(test[i][1])"
   ]
  },
  {
   "cell_type": "code",
   "execution_count": null,
   "id": "dab8d4c8",
   "metadata": {},
   "outputs": [],
   "source": [
    "x"
   ]
  },
  {
   "cell_type": "code",
   "execution_count": null,
   "id": "29f49c10",
   "metadata": {},
   "outputs": [],
   "source": [
    "for i in range(len(test)):\n",
    "    x_polygon = []\n",
    "    y_polygon = []\n",
    "    "
   ]
  },
  {
   "cell_type": "code",
   "execution_count": null,
   "id": "f9d38a6c",
   "metadata": {},
   "outputs": [],
   "source": [
    "with open('/home/kgh6784/shared/hdd_ext/nvme1/jihun_instance/lg_molecular/dataset/modify.json','w') as f:\n",
    "    json.dump(json_data, f, ensure_ascii=False, indent=4)"
   ]
  },
  {
   "cell_type": "code",
   "execution_count": null,
   "id": "fa56e0fa",
   "metadata": {},
   "outputs": [],
   "source": [
    "x = 0\n",
    "for i in range(len(json_data['annotations'])):\n",
    "    json_data['annotations'][i]['id'] = x\n",
    "    x += 1"
   ]
  },
  {
   "cell_type": "code",
   "execution_count": null,
   "id": "0b6f6e4c",
   "metadata": {},
   "outputs": [],
   "source": [
    "xx = []\n",
    "for i in range(len(json_data['annotations'])):\n",
    "    ids = json_data['annotations'][i]['id']\n",
    "    xx.append(ids)"
   ]
  },
  {
   "cell_type": "code",
   "execution_count": null,
   "id": "4812949b",
   "metadata": {},
   "outputs": [],
   "source": [
    "xx"
   ]
  },
  {
   "cell_type": "code",
   "execution_count": null,
   "id": "96ee2635",
   "metadata": {},
   "outputs": [],
   "source": []
  }
 ],
 "metadata": {
  "kernelspec": {
   "display_name": "Python 3 (ipykernel)",
   "language": "python",
   "name": "python3"
  },
  "language_info": {
   "codemirror_mode": {
    "name": "ipython",
    "version": 3
   },
   "file_extension": ".py",
   "mimetype": "text/x-python",
   "name": "python",
   "nbconvert_exporter": "python",
   "pygments_lexer": "ipython3",
   "version": "3.8.12"
  }
 },
 "nbformat": 4,
 "nbformat_minor": 5
}
